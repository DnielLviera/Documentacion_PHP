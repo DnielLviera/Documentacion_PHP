{
 "cells": [
  {
   "cell_type": "markdown",
   "id": "edafdc11",
   "metadata": {},
   "source": [
    "### Hola Mundo en PHP"
   ]
  },
  {
   "cell_type": "markdown",
   "id": "d7b91c20",
   "metadata": {},
   "source": [
    "<?php\n",
    "echo \"¡Hola Mundo!\";\n",
    "?>"
   ]
  },
  {
   "cell_type": "markdown",
   "id": "8a531723",
   "metadata": {},
   "source": [
    "### Comentarios"
   ]
  },
  {
   "cell_type": "markdown",
   "id": "c449360d",
   "metadata": {},
   "source": [
    "<?php\n",
    "// Esto es un comentario de una línea\n",
    "\n",
    "# Esto también es un comentario de una línea\n",
    "\n",
    "/*\n",
    "Esto es un comentario\n",
    "de múltiples líneas\n",
    "*/\n",
    "?>"
   ]
  },
  {
   "cell_type": "markdown",
   "id": "6b66f113",
   "metadata": {},
   "source": [
    "### Variables"
   ]
  },
  {
   "cell_type": "markdown",
   "id": "af10a610",
   "metadata": {},
   "source": [
    "<?php\n",
    "// Las variables en PHP empiezan con $\n",
    "$nombre = \"Juan\";\n",
    "$edad = 25;\n",
    "$altura = 1.75;\n",
    "$esEstudiante = true;\n",
    "\n",
    "echo \"Nombre: \" . $nombre . \"<br>\";\n",
    "echo \"Edad: \" . $edad . \"<br>\";\n",
    "echo \"Altura: \" . $altura . \"<br>\";\n",
    "echo \"Es estudiante: \" . ($esEstudiante ? \"Si\" : \"No\") . \"<br>\";\n",
    "?>"
   ]
  },
  {
   "cell_type": "markdown",
   "id": "49f81f2d",
   "metadata": {},
   "source": [
    "### Tipos de variables"
   ]
  },
  {
   "cell_type": "markdown",
   "id": "babb5760",
   "metadata": {},
   "source": [
    "<?php\n",
    "// String (Cadena de texto)\n",
    "$cadena = \"Hola PHP\";\n",
    "\n",
    "// Integer (Entero)\n",
    "$entero = 42;\n",
    "\n",
    "// Float (Decimal)\n",
    "$decimal = 3.1416;\n",
    "\n",
    "// Boolean (Booleano)\n",
    "$verdadero = true;\n",
    "$falso = false;\n",
    "\n",
    "// Array (Arreglo)\n",
    "$frutas = array(\"Manzana\", \"Banana\", \"Naranja\");\n",
    "\n",
    "// Null\n",
    "$nulo = null;\n",
    "?>"
   ]
  },
  {
   "cell_type": "markdown",
   "id": "c9ae53a6",
   "metadata": {},
   "source": [
    "### Operaciones básicas"
   ]
  },
  {
   "cell_type": "markdown",
   "id": "1e7ab50f",
   "metadata": {},
   "source": [
    "<?php\n",
    "$a = 10;\n",
    "$b = 3;\n",
    "\n",
    "echo \"Suma: \" . ($a + $b) . \"<br>\";\n",
    "echo \"Resta: \" . ($a - $b) . \"<br>\";\n",
    "echo \"Multiplicación: \" . ($a * $b) . \"<br>\";\n",
    "echo \"División: \" . ($a / $b) . \"<br>\";\n",
    "echo \"Módulo: \" . ($a % $b) . \"<br>\";\n",
    "echo \"Potencia: \" . ($a ** $b) . \"<br>\";\n",
    "?>"
   ]
  },
  {
   "cell_type": "markdown",
   "id": "ffc820db",
   "metadata": {},
   "source": [
    "### Operadores de comparación"
   ]
  },
  {
   "cell_type": "markdown",
   "id": "02c3bd99",
   "metadata": {},
   "source": [
    "<?php\n",
    "$x = 5;\n",
    "$y = \"5\";\n",
    "$z = 10;\n",
    "\n",
    "echo \"x == y: \" . ($x == $y ? \"true\" : \"false\") . \"<br>\";  // true (mismo valor)\n",
    "echo \"x === y: \" . ($x === $y ? \"true\" : \"false\") . \"<br>\"; // false (diferente tipo)\n",
    "echo \"x != y: \" . ($x != $y ? \"true\" : \"false\") . \"<br>\";   // false\n",
    "echo \"x < z: \" . ($x < $z ? \"true\" : \"false\") . \"<br>\";     // true\n",
    "?>"
   ]
  },
  {
   "cell_type": "markdown",
   "id": "b728360a",
   "metadata": {},
   "source": [
    "### Condicionales"
   ]
  },
  {
   "cell_type": "code",
   "execution_count": null,
   "id": "9f492b49",
   "metadata": {
    "vscode": {
     "languageId": "php"
    }
   },
   "outputs": [],
   "source": [
    "<?php\n",
    "\n",
    "// IF-ELSE\n",
    "$edad = 18;\n",
    "\n",
    "if ($edad >= 18) {\n",
    "    echo \"Eres mayor de edad<br>\";\n",
    "} else {\n",
    "    echo \"Eres menor de edad<br>\";\n",
    "}\n",
    "\n",
    "// IF-ELSEIF-ELSE\n",
    "$nota = 85;\n",
    "\n",
    "if ($nota >= 90) {\n",
    "    echo \"Excelente (A)<br>\";\n",
    "} elseif ($nota >= 80) {\n",
    "    echo \"Muy bien (B)<br>\";\n",
    "} elseif ($nota >= 70) {\n",
    "    echo \"Bien (C)<br>\";\n",
    "} else {\n",
    "    echo \"Necesitas mejorar<br>\";\n",
    "}\n",
    "\n",
    "// SWITCH\n",
    "$dia = \"Lunes\";\n",
    "\n",
    "switch ($dia) {\n",
    "    case \"Lunes\":\n",
    "        echo \"Inicio de semana<br>\";\n",
    "        break;\n",
    "    case \"Viernes\":\n",
    "        echo \"¡Viernes!<br>\";\n",
    "        break;\n",
    "    default:\n",
    "        echo \"Día normal<br>\";\n",
    "        break;\n",
    "}\n",
    "?>"
   ]
  },
  {
   "cell_type": "markdown",
   "id": "ae7c5194",
   "metadata": {},
   "source": [
    "### Funciones"
   ]
  },
  {
   "cell_type": "code",
   "execution_count": null,
   "id": "093af501",
   "metadata": {
    "vscode": {
     "languageId": "php"
    }
   },
   "outputs": [],
   "source": [
    "<?php\n",
    "\n",
    "// Funcion básica\n",
    "function saludar($nombre) {\n",
    "    return \"Hola, \" . $nombre . \"!\";\n",
    "}\n",
    "\n",
    "echo saludar(\"María\") . \"<br>\";\n",
    "echo saludar(\"Carlos\") . \"<br>\";\n",
    "\n",
    "// Funcion con valor por defecto\n",
    "function presentar($nombre, $edad = \"desconocida\") {\n",
    "    return \"Me llamo $nombre y tengo $edad años\";\n",
    "}\n",
    "\n",
    "echo presentar(\"Ana\", 25) . \"<br>\";\n",
    "echo presentar(\"Luis\") . \"<br>\";\n",
    "\n",
    "// Funcion que retorna valores\n",
    "function operaciones($a, $b) {\n",
    "    $suma = $a + $b;\n",
    "    $resta = $a - $b;\n",
    "    $multiplicacion = $a * $b;\n",
    "    \n",
    "    return array($suma, $resta, $multiplicacion);\n",
    "}\n",
    "\n",
    "$resultados = operaciones(10, 5);\n",
    "echo \"Suma: \" . $resultados[0] . \"<br>\";\n",
    "echo \"Resta: \" . $resultados[1] . \"<br>\";\n",
    "echo \"Multiplicación: \" . $resultados[2] . \"<br>\";\n",
    "?>"
   ]
  }
 ],
 "metadata": {
  "language_info": {
   "name": "python"
  }
 },
 "nbformat": 4,
 "nbformat_minor": 5
}
